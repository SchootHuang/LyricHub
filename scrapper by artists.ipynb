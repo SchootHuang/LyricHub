{
 "cells": [
  {
   "cell_type": "code",
   "execution_count": 1,
   "metadata": {},
   "outputs": [
    {
     "name": "stdout",
     "output_type": "stream",
     "text": [
      "Requirement already satisfied: lyricsgenius in /anaconda3/lib/python3.6/site-packages (1.5.1)\n",
      "Requirement already satisfied: beautifulsoup4==4.6.0 in /anaconda3/lib/python3.6/site-packages (from lyricsgenius) (4.6.0)\n",
      "Requirement already satisfied: requests>=2.20.0 in /anaconda3/lib/python3.6/site-packages (from lyricsgenius) (2.21.0)\n",
      "Requirement already satisfied: urllib3<1.25,>=1.21.1 in /anaconda3/lib/python3.6/site-packages (from requests>=2.20.0->lyricsgenius) (1.24.1)\n",
      "Requirement already satisfied: idna<2.9,>=2.5 in /anaconda3/lib/python3.6/site-packages (from requests>=2.20.0->lyricsgenius) (2.8)\n",
      "Requirement already satisfied: certifi>=2017.4.17 in /anaconda3/lib/python3.6/site-packages (from requests>=2.20.0->lyricsgenius) (2019.3.9)\n",
      "Requirement already satisfied: chardet<3.1.0,>=3.0.2 in /anaconda3/lib/python3.6/site-packages (from requests>=2.20.0->lyricsgenius) (3.0.4)\n"
     ]
    }
   ],
   "source": [
    "!pip install lyricsgenius\n",
    "import lyricsgenius as genius\n",
    "import requests\n",
    "import os, json\n",
    "import pandas as pd"
   ]
  },
  {
   "cell_type": "markdown",
   "metadata": {},
   "source": [
    "### API to use"
   ]
  },
  {
   "cell_type": "code",
   "execution_count": 2,
   "metadata": {},
   "outputs": [],
   "source": [
    "#tools for change it to dataframe which takes a list of jsonfilepath\n",
    "def json_df(json_files, artist_name):\n",
    "    df = {}\n",
    "    i=0\n",
    "    for f in json_files:\n",
    "        with open(f) as jsfile:\n",
    "            x = json.load(jsfile)\n",
    "            df[i]=x['songs'][0]\n",
    "            i+=1\n",
    "    df = pd.DataFrame(df).T\n",
    "    df['artist']=[artist_name]*len(df)\n",
    "    return df"
   ]
  },
  {
   "cell_type": "code",
   "execution_count": 4,
   "metadata": {},
   "outputs": [],
   "source": [
    "def search_by_artist(artist_name, token, number=5):\n",
    "    api=genius.Genius(token)\n",
    "    artist = api.search_artist(artist_name, number)\n",
    "    # save each song to a json file\n",
    "    artist.save_lyrics(extension='json')\n",
    "    # save all to local\n",
    "    path_to_json = '.'\n",
    "    json_files = [pos_json for pos_json in os.listdir(path_to_json) if pos_json.endswith('.json')]\n",
    "    data=json_df(json_files,artist_name)\n",
    "    return data"
   ]
  },
  {
   "cell_type": "code",
   "execution_count": 5,
   "metadata": {},
   "outputs": [
    {
     "name": "stdout",
     "output_type": "stream",
     "text": [
      "Searching for songs by Taylor Swift...\n",
      "\n",
      "Song 1: \"Look What You Made Me Do\"\n",
      "Song 2: \"End Game\"\n",
      "Song 3: \"...Ready for It?\"\n",
      "Song 4: \"ME!\"\n",
      "Song 5: \"Blank Space\"\n",
      "\n",
      "Reached user-specified song limit (5).\n",
      "Done. Found 5 songs.\n",
      "Wrote Look What You Made Me Do to lyrics_taylorswift_lookwhatyoumademedo.json.\n",
      "Wrote End Game to lyrics_taylorswift_endgame.json.\n",
      "Wrote ...Ready for It? to lyrics_taylorswift_...readyforit.json.\n",
      "Wrote ME! to lyrics_taylorswift_me.json.\n",
      "Wrote Blank Space to lyrics_taylorswift_blankspace.json.\n"
     ]
    }
   ],
   "source": [
    "token='dm0XWrZXWW1h4lAiglzYkkMDhKcF2N1dB_TyCxI9b9Ekqgh72z4ls74zCviFJbat'\n",
    "data=search_by_artist('Taylor Swift', token)\n",
    "\n"
   ]
  },
  {
   "cell_type": "code",
   "execution_count": 6,
   "metadata": {},
   "outputs": [
    {
     "data": {
      "text/html": [
       "<div>\n",
       "<style scoped>\n",
       "    .dataframe tbody tr th:only-of-type {\n",
       "        vertical-align: middle;\n",
       "    }\n",
       "\n",
       "    .dataframe tbody tr th {\n",
       "        vertical-align: top;\n",
       "    }\n",
       "\n",
       "    .dataframe thead th {\n",
       "        text-align: right;\n",
       "    }\n",
       "</style>\n",
       "<table border=\"1\" class=\"dataframe\">\n",
       "  <thead>\n",
       "    <tr style=\"text-align: right;\">\n",
       "      <th></th>\n",
       "      <th>album</th>\n",
       "      <th>image</th>\n",
       "      <th>lyrics</th>\n",
       "      <th>title</th>\n",
       "      <th>year</th>\n",
       "      <th>artist</th>\n",
       "    </tr>\n",
       "  </thead>\n",
       "  <tbody>\n",
       "    <tr>\n",
       "      <th>0</th>\n",
       "      <td>reputation</td>\n",
       "      <td>https://images.genius.com/34b696717e887f4e4807...</td>\n",
       "      <td>[Chorus: Taylor Swift &amp; Future]\\nI wanna be yo...</td>\n",
       "      <td>End Game</td>\n",
       "      <td>2017-11-10</td>\n",
       "      <td>Taylor Swift</td>\n",
       "    </tr>\n",
       "    <tr>\n",
       "      <th>1</th>\n",
       "      <td>reputation</td>\n",
       "      <td>https://images.genius.com/5aeff71a5f148ca52f0b...</td>\n",
       "      <td>[Verse 1]\\nKnew he was a killer first time tha...</td>\n",
       "      <td>...Ready for It?</td>\n",
       "      <td>2017-09-03</td>\n",
       "      <td>Taylor Swift</td>\n",
       "    </tr>\n",
       "    <tr>\n",
       "      <th>2</th>\n",
       "      <td>reputation</td>\n",
       "      <td>https://images.genius.com/bcd1ae9927c14b71b487...</td>\n",
       "      <td>[Verse 1]\\nI don't like your little games\\nDon...</td>\n",
       "      <td>Look What You Made Me Do</td>\n",
       "      <td>2017-08-25</td>\n",
       "      <td>Taylor Swift</td>\n",
       "    </tr>\n",
       "    <tr>\n",
       "      <th>3</th>\n",
       "      <td>1989</td>\n",
       "      <td>https://images.genius.com/eb811cfbca7ffdc3527e...</td>\n",
       "      <td>[Verse 1]\\nNice to meet you, where you been?\\n...</td>\n",
       "      <td>Blank Space</td>\n",
       "      <td>2014-10-27</td>\n",
       "      <td>Taylor Swift</td>\n",
       "    </tr>\n",
       "    <tr>\n",
       "      <th>4</th>\n",
       "      <td>TS7*</td>\n",
       "      <td>https://images.genius.com/6a69d583d0d2f5cbeece...</td>\n",
       "      <td>[Intro: Taylor Swift]\\nI promise that you'll n...</td>\n",
       "      <td>ME!</td>\n",
       "      <td>2019-04-26</td>\n",
       "      <td>Taylor Swift</td>\n",
       "    </tr>\n",
       "  </tbody>\n",
       "</table>\n",
       "</div>"
      ],
      "text/plain": [
       "        album                                              image  \\\n",
       "0  reputation  https://images.genius.com/34b696717e887f4e4807...   \n",
       "1  reputation  https://images.genius.com/5aeff71a5f148ca52f0b...   \n",
       "2  reputation  https://images.genius.com/bcd1ae9927c14b71b487...   \n",
       "3        1989  https://images.genius.com/eb811cfbca7ffdc3527e...   \n",
       "4        TS7*  https://images.genius.com/6a69d583d0d2f5cbeece...   \n",
       "\n",
       "                                              lyrics  \\\n",
       "0  [Chorus: Taylor Swift & Future]\\nI wanna be yo...   \n",
       "1  [Verse 1]\\nKnew he was a killer first time tha...   \n",
       "2  [Verse 1]\\nI don't like your little games\\nDon...   \n",
       "3  [Verse 1]\\nNice to meet you, where you been?\\n...   \n",
       "4  [Intro: Taylor Swift]\\nI promise that you'll n...   \n",
       "\n",
       "                      title        year        artist  \n",
       "0                  End Game  2017-11-10  Taylor Swift  \n",
       "1          ...Ready for It?  2017-09-03  Taylor Swift  \n",
       "2  Look What You Made Me Do  2017-08-25  Taylor Swift  \n",
       "3               Blank Space  2014-10-27  Taylor Swift  \n",
       "4                       ME!  2019-04-26  Taylor Swift  "
      ]
     },
     "execution_count": 6,
     "metadata": {},
     "output_type": "execute_result"
    }
   ],
   "source": [
    "data"
   ]
  },
  {
   "cell_type": "code",
   "execution_count": null,
   "metadata": {},
   "outputs": [],
   "source": []
  },
  {
   "cell_type": "code",
   "execution_count": null,
   "metadata": {},
   "outputs": [],
   "source": []
  },
  {
   "cell_type": "code",
   "execution_count": null,
   "metadata": {},
   "outputs": [],
   "source": []
  },
  {
   "cell_type": "code",
   "execution_count": null,
   "metadata": {},
   "outputs": [],
   "source": []
  }
 ],
 "metadata": {
  "kernelspec": {
   "display_name": "Python 3",
   "language": "python",
   "name": "python3"
  },
  "language_info": {
   "codemirror_mode": {
    "name": "ipython",
    "version": 3
   },
   "file_extension": ".py",
   "mimetype": "text/x-python",
   "name": "python",
   "nbconvert_exporter": "python",
   "pygments_lexer": "ipython3",
   "version": "3.6.6"
  }
 },
 "nbformat": 4,
 "nbformat_minor": 2
}
